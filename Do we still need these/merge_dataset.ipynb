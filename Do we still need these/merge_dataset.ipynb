{
 "cells": [
  {
   "cell_type": "markdown",
   "metadata": {},
   "source": [
    "# Importing Essential Libraries"
   ]
  },
  {
   "cell_type": "code",
   "execution_count": 57,
   "metadata": {},
   "outputs": [],
   "source": [
    "import numpy as np\n",
    "import pandas as pd\n",
    "import seaborn as sb\n",
    "import matplotlib.pyplot as plt\n",
    "sb.set()"
   ]
  },
  {
   "cell_type": "markdown",
   "metadata": {},
   "source": [
    "# Importing Data\n",
    "\n",
    "Importing both the original dataset and the new dataset for merging"
   ]
  },
  {
   "cell_type": "code",
   "execution_count": 58,
   "metadata": {},
   "outputs": [
    {
     "data": {
      "text/html": [
       "<div>\n",
       "<style scoped>\n",
       "    .dataframe tbody tr th:only-of-type {\n",
       "        vertical-align: middle;\n",
       "    }\n",
       "\n",
       "    .dataframe tbody tr th {\n",
       "        vertical-align: top;\n",
       "    }\n",
       "\n",
       "    .dataframe thead th {\n",
       "        text-align: right;\n",
       "    }\n",
       "</style>\n",
       "<table border=\"1\" class=\"dataframe\">\n",
       "  <thead>\n",
       "    <tr style=\"text-align: right;\">\n",
       "      <th></th>\n",
       "      <th>name</th>\n",
       "      <th>platform</th>\n",
       "      <th>release_date</th>\n",
       "      <th>summary</th>\n",
       "      <th>meta_score</th>\n",
       "      <th>user_review</th>\n",
       "    </tr>\n",
       "  </thead>\n",
       "  <tbody>\n",
       "    <tr>\n",
       "      <th>0</th>\n",
       "      <td>The Legend of Zelda: Ocarina of Time</td>\n",
       "      <td>Nintendo 64</td>\n",
       "      <td>November 23, 1998</td>\n",
       "      <td>As a young boy, Link is tricked by Ganondorf, ...</td>\n",
       "      <td>99</td>\n",
       "      <td>9.1</td>\n",
       "    </tr>\n",
       "    <tr>\n",
       "      <th>1</th>\n",
       "      <td>Tony Hawk's Pro Skater 2</td>\n",
       "      <td>PlayStation</td>\n",
       "      <td>September 20, 2000</td>\n",
       "      <td>As most major publishers' development efforts ...</td>\n",
       "      <td>98</td>\n",
       "      <td>7.4</td>\n",
       "    </tr>\n",
       "    <tr>\n",
       "      <th>2</th>\n",
       "      <td>Grand Theft Auto IV</td>\n",
       "      <td>PlayStation 3</td>\n",
       "      <td>April 29, 2008</td>\n",
       "      <td>[Metacritic's 2008 PS3 Game of the Year; Also ...</td>\n",
       "      <td>98</td>\n",
       "      <td>7.7</td>\n",
       "    </tr>\n",
       "    <tr>\n",
       "      <th>3</th>\n",
       "      <td>SoulCalibur</td>\n",
       "      <td>Dreamcast</td>\n",
       "      <td>September 8, 1999</td>\n",
       "      <td>This is a tale of souls and swords, transcendi...</td>\n",
       "      <td>98</td>\n",
       "      <td>8.4</td>\n",
       "    </tr>\n",
       "    <tr>\n",
       "      <th>4</th>\n",
       "      <td>Grand Theft Auto IV</td>\n",
       "      <td>Xbox 360</td>\n",
       "      <td>April 29, 2008</td>\n",
       "      <td>[Metacritic's 2008 Xbox 360 Game of the Year; ...</td>\n",
       "      <td>98</td>\n",
       "      <td>7.9</td>\n",
       "    </tr>\n",
       "  </tbody>\n",
       "</table>\n",
       "</div>"
      ],
      "text/plain": [
       "                                   name        platform        release_date  \\\n",
       "0  The Legend of Zelda: Ocarina of Time     Nintendo 64   November 23, 1998   \n",
       "1              Tony Hawk's Pro Skater 2     PlayStation  September 20, 2000   \n",
       "2                   Grand Theft Auto IV   PlayStation 3      April 29, 2008   \n",
       "3                           SoulCalibur       Dreamcast   September 8, 1999   \n",
       "4                   Grand Theft Auto IV        Xbox 360      April 29, 2008   \n",
       "\n",
       "                                             summary  meta_score user_review  \n",
       "0  As a young boy, Link is tricked by Ganondorf, ...          99         9.1  \n",
       "1  As most major publishers' development efforts ...          98         7.4  \n",
       "2  [Metacritic's 2008 PS3 Game of the Year; Also ...          98         7.7  \n",
       "3  This is a tale of souls and swords, transcendi...          98         8.4  \n",
       "4  [Metacritic's 2008 Xbox 360 Game of the Year; ...          98         7.9  "
      ]
     },
     "execution_count": 58,
     "metadata": {},
     "output_type": "execute_result"
    }
   ],
   "source": [
    "vg_sales = pd.read_csv(\"Final Data.csv\")\n",
    "\n",
    "# dropping the first column as we will not be using this\n",
    "vg_sales.drop(\"Rank\", axis=1, inplace=True)\n",
    "\n",
    "metaCritic = pd.read_csv(\"meta_critic.csv\")\n",
    "metaCritic.head()\n"
   ]
  },
  {
   "cell_type": "markdown",
   "metadata": {},
   "source": [
    "Change the column of user_review in metaCritic CSV to meta_UserReview. The columns name and platform are also changed so that merging could be done later."
   ]
  },
  {
   "cell_type": "code",
   "execution_count": 59,
   "metadata": {},
   "outputs": [],
   "source": [
    "metaCritic.rename(columns={'user_review':'meta_UserReview','name':'Name','platform':'Platform'},inplace=True)"
   ]
  },
  {
   "cell_type": "markdown",
   "metadata": {},
   "source": [
    "The user_score column and critic score in vgSales.csv are changed to vg_user_score and vg_critic_score to so that the columns are clearly identified later in the model."
   ]
  },
  {
   "cell_type": "code",
   "execution_count": 60,
   "metadata": {},
   "outputs": [
    {
     "data": {
      "text/plain": [
       "array(['Series', 'All', 'Wii', 'NS', 'NES', 'PC', 'GB', 'DS', 'X360',\n",
       "       'SNES', 'PS3', 'PS4', '3DS', 'PS2', 'GBA', 'GEN', 'N64', 'PS',\n",
       "       'XOne', 'WiiU', 'XB', 'PSP', '2600', 'GC', 'GBC', 'iOS', 'PSN',\n",
       "       'PSV', 'DC', 'XBL', 'SAT', 'SCD', 'PS5', '3DO', 'WS', 'Amig', 'VC',\n",
       "       'NG', 'WW', 'PCE', 'GG', 'OSX', 'PCFX', 'Mob', 'And', 'Ouya',\n",
       "       'DSiW', 'MS', 'DSi', 'VB', 'Linux', 'MSD', 'C128', 'AST', 'Lynx',\n",
       "       '7800', '5200', 'S32X', 'MSX', 'FMT', 'ACPC', 'C64', 'BRW', 'AJ',\n",
       "       'ZXS', 'NGage', 'GIZ', 'WinP', 'iQue', 'Arc', 'ApII', 'Aco',\n",
       "       'BBCM', 'TG16', 'CDi', 'CD32', 'XS', 'CV', 'OR', 'Int'],\n",
       "      dtype=object)"
      ]
     },
     "execution_count": 60,
     "metadata": {},
     "output_type": "execute_result"
    }
   ],
   "source": [
    "vg_sales.rename(columns={'User_Score':'vg_user_score','Critic_Score':'vg_critic_score','Rank':'vg_Rank'},inplace=True)\n",
    "vg_sales['Platform'].unique()"
   ]
  },
  {
   "cell_type": "code",
   "execution_count": 61,
   "metadata": {},
   "outputs": [
    {
     "name": "stdout",
     "output_type": "stream",
     "text": [
      "[' Nintendo 64' ' PlayStation' ' PlayStation 3' ' Dreamcast' ' Xbox 360'\n",
      " ' Wii' ' Xbox One' ' PC' ' Switch' ' PlayStation 2' ' PlayStation 4'\n",
      " ' GameCube' ' Xbox' ' Wii U' ' Game Boy Advance' ' 3DS' ' Xbox Series X'\n",
      " ' DS' ' PlayStation Vita' ' PlayStation 5' ' PSP' ' Stadia']\n"
     ]
    }
   ],
   "source": [
    "# dataset to be merged\n",
    "temp = metaCritic[['Name','Platform','meta_score','meta_UserReview']]\n",
    "array = temp['Platform'].unique()\n",
    "print(array)"
   ]
  },
  {
   "cell_type": "code",
   "execution_count": 62,
   "metadata": {},
   "outputs": [],
   "source": [
    "# dictonary that contains the keywords that needs to be swapped\n",
    "conversion = {\n",
    "    ' Nintendo 64':'N64' ,\n",
    "    ' PlayStation': 'PS' ,\n",
    "    ' PlayStation 3': 'PS3', \n",
    "    ' Dreamcast': 'DC',\n",
    "    ' Xbox 360':'X360',\n",
    "    ' Wii':'Wii',\n",
    "    ' Xbox One':'XOne',\n",
    "    ' PC' : 'PC',\n",
    "    ' Switch': 'NS',\n",
    "    ' PlayStation 2': 'PS2',\n",
    "    ' PlayStation 4': 'PS4',\n",
    "    ' GameCube': 'GCN',\n",
    "    ' Xbox': 'XB',\n",
    "    ' Wii U': 'WiiU',\n",
    "    ' Game Boy Advance': 'GBA',\n",
    "    ' 3DS': '3DS',\n",
    "    ' Xbox Series X': 'XSX',\n",
    "    ' DS': 'DS',\n",
    "    ' PlayStation Vita': 'PSV',\n",
    "    ' PlayStation 5': 'PS5',\n",
    "    ' PSP': 'PSP',\n",
    "    ' Stadia': 'PC',    \n",
    " }\n",
    " \n",
    "temp = temp.replace({'Platform': conversion})"
   ]
  },
  {
   "cell_type": "code",
   "execution_count": 63,
   "metadata": {},
   "outputs": [
    {
     "name": "stdout",
     "output_type": "stream",
     "text": [
      "<class 'pandas.core.frame.DataFrame'>\n",
      "Int64Index: 10996 entries, 0 to 10995\n",
      "Data columns (total 15 columns):\n",
      " #   Column           Non-Null Count  Dtype  \n",
      "---  ------           --------------  -----  \n",
      " 0   Name             10996 non-null  object \n",
      " 1   Platform         10996 non-null  object \n",
      " 2   meta_score       10996 non-null  int64  \n",
      " 3   meta_UserReview  10996 non-null  object \n",
      " 4   Year             10412 non-null  float64\n",
      " 5   Genre            10996 non-null  object \n",
      " 6   Publisher        10996 non-null  object \n",
      " 7   Developer        10996 non-null  object \n",
      " 8   vg_critic_score  3417 non-null   float64\n",
      " 9   vg_user_score    261 non-null    float64\n",
      " 10  NA_Sales         6144 non-null   float64\n",
      " 11  PAL_Sales        6455 non-null   float64\n",
      " 12  JP_Sales         2334 non-null   float64\n",
      " 13  Other_Sales      6930 non-null   float64\n",
      " 14  Global_Sales     7156 non-null   float64\n",
      "dtypes: float64(8), int64(1), object(6)\n",
      "memory usage: 1.3+ MB\n"
     ]
    }
   ],
   "source": [
    "\n",
    "# merging the datasets have also removed many duplicate datapoints\n",
    "merged_dataSet = pd.merge(temp,vg_sales,on=[\"Name\",\"Platform\"])\n",
    "\n",
    "# making sure everything worked\n",
    "merged_dataSet.info()"
   ]
  },
  {
   "cell_type": "markdown",
   "metadata": {},
   "source": [
    "There's a Name column that we do not need (first column)"
   ]
  },
  {
   "cell_type": "code",
   "execution_count": 64,
   "metadata": {},
   "outputs": [
    {
     "name": "stdout",
     "output_type": "stream",
     "text": [
      "<class 'pandas.core.frame.DataFrame'>\n",
      "Int64Index: 10996 entries, 0 to 10995\n",
      "Data columns (total 14 columns):\n",
      " #   Column           Non-Null Count  Dtype  \n",
      "---  ------           --------------  -----  \n",
      " 0   Platform         10996 non-null  object \n",
      " 1   meta_score       10996 non-null  int64  \n",
      " 2   meta_UserReview  10996 non-null  object \n",
      " 3   Year             10412 non-null  float64\n",
      " 4   Genre            10996 non-null  object \n",
      " 5   Publisher        10996 non-null  object \n",
      " 6   Developer        10996 non-null  object \n",
      " 7   vg_critic_score  3417 non-null   float64\n",
      " 8   vg_user_score    261 non-null    float64\n",
      " 9   NA_Sales         6144 non-null   float64\n",
      " 10  PAL_Sales        6455 non-null   float64\n",
      " 11  JP_Sales         2334 non-null   float64\n",
      " 12  Other_Sales      6930 non-null   float64\n",
      " 13  Global_Sales     7156 non-null   float64\n",
      "dtypes: float64(8), int64(1), object(5)\n",
      "memory usage: 1.3+ MB\n"
     ]
    }
   ],
   "source": [
    "# removing the first column\n",
    "merged_dataSet.drop(\"Name\", axis=1, inplace=True)\n",
    "\n",
    "# making sure everything worked\n",
    "merged_dataSet.info()"
   ]
  },
  {
   "cell_type": "code",
   "execution_count": 65,
   "metadata": {},
   "outputs": [],
   "source": [
    "# export as csv so that other notebooks can use the merged dataset\n",
    "merged_dataSet.to_csv('merged_dataSet.csv', index = False)"
   ]
  }
 ],
 "metadata": {
  "interpreter": {
   "hash": "4f3b078249380ea762697f4f8f6aea77b3d6e43cbb1b18cbb73d8cde5aa597e7"
  },
  "kernelspec": {
   "display_name": "Python 3.9.7 64-bit (system)",
   "language": "python",
   "name": "python3"
  },
  "language_info": {
   "codemirror_mode": {
    "name": "ipython",
    "version": 3
   },
   "file_extension": ".py",
   "mimetype": "text/x-python",
   "name": "python",
   "nbconvert_exporter": "python",
   "pygments_lexer": "ipython3",
   "version": "3.8.8"
  },
  "orig_nbformat": 4
 },
 "nbformat": 4,
 "nbformat_minor": 2
}
