{
 "cells": [
  {
   "cell_type": "code",
   "execution_count": 18,
   "metadata": {},
   "outputs": [],
   "source": [
    "import numpy as np\n",
    "import pandas as pd\n",
    "import seaborn as sb\n",
    "import matplotlib.pyplot as plt\n",
    "sb.set()"
   ]
  },
  {
   "cell_type": "code",
   "execution_count": 19,
   "metadata": {},
   "outputs": [
    {
     "name": "stdout",
     "output_type": "stream",
     "text": [
      "<class 'pandas.core.frame.DataFrame'>\n",
      "RangeIndex: 10996 entries, 0 to 10995\n",
      "Data columns (total 17 columns):\n",
      " #   Column           Non-Null Count  Dtype  \n",
      "---  ------           --------------  -----  \n",
      " 0   Unnamed: 0       10996 non-null  int64  \n",
      " 1   Name             10996 non-null  object \n",
      " 2   Platform         10996 non-null  object \n",
      " 3   meta_score       10996 non-null  int64  \n",
      " 4   meta_UserReview  10996 non-null  object \n",
      " 5   vg_Rank          10996 non-null  int64  \n",
      " 6   Year             10412 non-null  float64\n",
      " 7   Genre            10996 non-null  object \n",
      " 8   Publisher        10996 non-null  object \n",
      " 9   Developer        10996 non-null  object \n",
      " 10  vg_critic_score  3417 non-null   float64\n",
      " 11  vg_user_score    261 non-null    float64\n",
      " 12  NA_Sales         6144 non-null   float64\n",
      " 13  PAL_Sales        6455 non-null   float64\n",
      " 14  JP_Sales         2334 non-null   float64\n",
      " 15  Other_Sales      6930 non-null   float64\n",
      " 16  Global_Sales     7156 non-null   float64\n",
      "dtypes: float64(8), int64(3), object(6)\n",
      "memory usage: 1.4+ MB\n"
     ]
    }
   ],
   "source": [
    "data = pd.read_csv(\"merged_dataSet.csv\")\n",
    "data.info()"
   ]
  },
  {
   "cell_type": "markdown",
   "metadata": {},
   "source": [
    "Converting meta_user Review to float\n"
   ]
  },
  {
   "cell_type": "code",
   "execution_count": 20,
   "metadata": {},
   "outputs": [],
   "source": [
    "data.loc[(data['meta_UserReview'] == 'tbd')] = None\n",
    "data['meta_UserReview'] = data['meta_UserReview'].astype(float)\n",
    "\n",
    "## ask group if need to put as median value for NA or take out"
   ]
  },
  {
   "cell_type": "markdown",
   "metadata": {},
   "source": [
    "Removing those records that has NULL for year and then changing the type of year to int as it is more logical"
   ]
  },
  {
   "cell_type": "code",
   "execution_count": 21,
   "metadata": {},
   "outputs": [
    {
     "name": "stdout",
     "output_type": "stream",
     "text": [
      "<class 'pandas.core.frame.DataFrame'>\n",
      "Int64Index: 9940 entries, 0 to 10995\n",
      "Data columns (total 17 columns):\n",
      " #   Column           Non-Null Count  Dtype  \n",
      "---  ------           --------------  -----  \n",
      " 0   Unnamed: 0       9940 non-null   float64\n",
      " 1   Name             9940 non-null   object \n",
      " 2   Platform         9940 non-null   object \n",
      " 3   meta_score       9940 non-null   float64\n",
      " 4   meta_UserReview  9940 non-null   float64\n",
      " 5   vg_Rank          9940 non-null   float64\n",
      " 6   Year             9940 non-null   int32  \n",
      " 7   Genre            9940 non-null   object \n",
      " 8   Publisher        9940 non-null   object \n",
      " 9   Developer        9940 non-null   object \n",
      " 10  vg_critic_score  3335 non-null   float64\n",
      " 11  vg_user_score    258 non-null    float64\n",
      " 12  NA_Sales         5787 non-null   float64\n",
      " 13  PAL_Sales        6130 non-null   float64\n",
      " 14  JP_Sales         2313 non-null   float64\n",
      " 15  Other_Sales      6568 non-null   float64\n",
      " 16  Global_Sales     6789 non-null   float64\n",
      "dtypes: float64(11), int32(1), object(5)\n",
      "memory usage: 1.3+ MB\n"
     ]
    }
   ],
   "source": [
    "data.dropna(subset=['Year'], inplace=True)\n",
    "data['Year'] = data['Year'].astype(int)\n",
    "data.info()\n"
   ]
  },
  {
   "cell_type": "markdown",
   "metadata": {},
   "source": [
    "Replace all the NA values in NA_Sales , PAL_Sales , JP_sales , Other_sales and Global_sales with 0"
   ]
  },
  {
   "cell_type": "code",
   "execution_count": 22,
   "metadata": {},
   "outputs": [
    {
     "name": "stdout",
     "output_type": "stream",
     "text": [
      "<class 'pandas.core.frame.DataFrame'>\n",
      "Int64Index: 9940 entries, 0 to 10995\n",
      "Data columns (total 17 columns):\n",
      " #   Column           Non-Null Count  Dtype  \n",
      "---  ------           --------------  -----  \n",
      " 0   Unnamed: 0       9940 non-null   float64\n",
      " 1   Name             9940 non-null   object \n",
      " 2   Platform         9940 non-null   object \n",
      " 3   meta_score       9940 non-null   float64\n",
      " 4   meta_UserReview  9940 non-null   float64\n",
      " 5   vg_Rank          9940 non-null   float64\n",
      " 6   Year             9940 non-null   int32  \n",
      " 7   Genre            9940 non-null   object \n",
      " 8   Publisher        9940 non-null   object \n",
      " 9   Developer        9940 non-null   object \n",
      " 10  vg_critic_score  3335 non-null   float64\n",
      " 11  vg_user_score    258 non-null    float64\n",
      " 12  NA_Sales         9940 non-null   float64\n",
      " 13  PAL_Sales        9940 non-null   float64\n",
      " 14  JP_Sales         9940 non-null   float64\n",
      " 15  Other_Sales      9940 non-null   float64\n",
      " 16  Global_Sales     9940 non-null   float64\n",
      "dtypes: float64(11), int32(1), object(5)\n",
      "memory usage: 1.3+ MB\n"
     ]
    }
   ],
   "source": [
    "data[\"NA_Sales\"].fillna(0,inplace=True)\n",
    "data[\"PAL_Sales\"].fillna(0,inplace=True)\n",
    "data[\"JP_Sales\"].fillna(0,inplace=True)\n",
    "data[\"Other_Sales\"].fillna(0,inplace=True)\n",
    "data[\"Global_Sales\"].fillna(0,inplace=True)\n",
    "data.info()"
   ]
  },
  {
   "cell_type": "code",
   "execution_count": 23,
   "metadata": {},
   "outputs": [],
   "source": [
    "#one hot encoding of Genre\n"
   ]
  },
  {
   "cell_type": "markdown",
   "metadata": {},
   "source": [
    "Adding all the sales to a new Column called total sales\n"
   ]
  },
  {
   "cell_type": "code",
   "execution_count": 24,
   "metadata": {},
   "outputs": [],
   "source": [
    "data[\"Total_Sales\"]= data[\"NA_Sales\"] + data[\"PAL_Sales\"] + data[\"JP_Sales\"] + data[\"Other_Sales\"] + data[\"Global_Sales\"]"
   ]
  },
  {
   "cell_type": "markdown",
   "metadata": {},
   "source": [
    "Reordering of columns so that it is easier to look at and performing one-hot enccoding for the genre variable"
   ]
  },
  {
   "cell_type": "code",
   "execution_count": 25,
   "metadata": {},
   "outputs": [],
   "source": [
    "cleaned_data = data[[\"Name\",\"Platform\",\"Year\",\"Genre\",\"Publisher\",\"Developer\",\"vg_Rank\",\"vg_critic_score\",\"vg_user_score\",\"meta_score\",\"meta_UserReview\",\"NA_Sales\",\"PAL_Sales\",\"JP_Sales\",\"Other_Sales\",\"Global_Sales\",\"Total_Sales\" ]]\n",
    "cleaned_data = pd.concat([cleaned_data,pd.get_dummies(cleaned_data['Genre'])],axis=1)\n",
    "cleaned_data.head()\n",
    "cleaned_data.to_csv(\"cleaned_data.csv\")\n"
   ]
  }
 ],
 "metadata": {
  "interpreter": {
   "hash": "0245d5643b85659509bc2746a7e4c16effb678ef172d558bfea8e1fd9933cddb"
  },
  "kernelspec": {
   "display_name": "Python 3.9.7 ('base')",
   "language": "python",
   "name": "python3"
  },
  "language_info": {
   "codemirror_mode": {
    "name": "ipython",
    "version": 3
   },
   "file_extension": ".py",
   "mimetype": "text/x-python",
   "name": "python",
   "nbconvert_exporter": "python",
   "pygments_lexer": "ipython3",
   "version": "3.8.8"
  },
  "orig_nbformat": 4
 },
 "nbformat": 4,
 "nbformat_minor": 2
}
