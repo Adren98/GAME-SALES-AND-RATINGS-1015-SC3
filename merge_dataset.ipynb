{
 "cells": [
  {
   "cell_type": "markdown",
   "metadata": {},
   "source": [
    "# Importing Essential Libraries"
   ]
  },
  {
   "cell_type": "code",
   "execution_count": null,
   "metadata": {},
   "outputs": [],
   "source": [
    "import numpy as np\n",
    "import pandas as pd\n",
    "import seaborn as sb\n",
    "import matplotlib.pyplot as plt\n",
    "sb.set()"
   ]
  },
  {
   "cell_type": "markdown",
   "metadata": {},
   "source": [
    "# Importing Data"
   ]
  },
  {
   "cell_type": "code",
   "execution_count": null,
   "metadata": {},
   "outputs": [],
   "source": [
    "vg_sales = pd.read_excel(\"Final Data.xlsx\")\n",
    "metaCritic = pd.read_csv(\"meta_critic.csv\")\n",
    "metaCritic.head()\n"
   ]
  },
  {
   "cell_type": "markdown",
   "metadata": {},
   "source": [
    "Change the column of user_review in metaCritic CSV to meta_UserReview. The following columns are also changed so that merging could be done later. These columns are name and platform."
   ]
  },
  {
   "cell_type": "code",
   "execution_count": null,
   "metadata": {},
   "outputs": [],
   "source": [
    "metaCritic.rename(columns={'user_review':'meta_UserReview','name':'Name','platform':'Platform'},inplace=True)\n",
    "\n"
   ]
  },
  {
   "cell_type": "markdown",
   "metadata": {},
   "source": [
    "The user_score column and critic score in vgSales.csv would be changed to vg_user_score and vg_critic_score to so that the columns are clearly identified later in the model."
   ]
  },
  {
   "cell_type": "code",
   "execution_count": null,
   "metadata": {},
   "outputs": [],
   "source": [
    "vg_sales.rename(columns={'User_Score':'vg_user_score','Critic_Score':'vg_critic_score'},inplace=True)\n",
    "vg_sales['Platform'].unique()\n",
    "\n",
    "\n"
   ]
  },
  {
   "cell_type": "code",
   "execution_count": null,
   "metadata": {},
   "outputs": [],
   "source": [
    "#dataset to be merged\n",
    "temp =metaCritic[['Name','Platform','meta_score','meta_UserReview']]\n",
    "array = temp['Platform'].unique()\n",
    "print(array)\n",
    "\n",
    "\n"
   ]
  },
  {
   "cell_type": "code",
   "execution_count": null,
   "metadata": {},
   "outputs": [],
   "source": [
    "# dictonary that contains the keywords that needs to be swapped. T\n",
    "conversion ={\n",
    "    ' Nintendo 64':'N64' ,\n",
    "    ' PlayStation': 'PS' ,\n",
    "    ' PlayStation 3': 'PS3', \n",
    "    ' Dreamcast': 'DC',\n",
    "    ' Xbox 360':'X360',\n",
    "    ' Wii':'Wii',\n",
    "    ' Xbox One':'XOne',\n",
    "    ' PC' : 'PC',\n",
    "    ' Switch': 'NS',\n",
    "    ' PlayStation 2': 'PS2',\n",
    "    ' PlayStation 4': 'PS4',\n",
    "    ' GameCube': 'GCN',\n",
    "    ' Xbox': 'XB',\n",
    "    ' Wii U': 'WiiU',\n",
    "    ' Game Boy Advance': 'GBA',\n",
    "    ' 3DS': '3DS',\n",
    "    ' Xbox Series X': 'XSX',\n",
    "    ' DS': 'DS',\n",
    "    ' PlayStation Vita': 'PSV',\n",
    "    ' PlayStation 5': 'PS5',\n",
    "    ' PSP': 'PSP',\n",
    "    ' Stadia': 'PC',    \n",
    " }\n",
    " \n",
    "temp.replace({'Platform': conversion})\n"
   ]
  },
  {
   "cell_type": "code",
   "execution_count": 101,
   "metadata": {},
   "outputs": [
    {
     "name": "stdout",
     "output_type": "stream",
     "text": [
      "<class 'pandas.core.frame.DataFrame'>\n",
      "RangeIndex: 18800 entries, 0 to 18799\n",
      "Data columns (total 4 columns):\n",
      " #   Column           Non-Null Count  Dtype \n",
      "---  ------           --------------  ----- \n",
      " 0   Name             18800 non-null  object\n",
      " 1   Platform         18800 non-null  object\n",
      " 2   meta_score       18800 non-null  int64 \n",
      " 3   meta_UserReview  18800 non-null  object\n",
      "dtypes: int64(1), object(3)\n",
      "memory usage: 587.6+ KB\n"
     ]
    }
   ],
   "source": [
    "temp.info()\n"
   ]
  },
  {
   "cell_type": "code",
   "execution_count": 105,
   "metadata": {},
   "outputs": [
    {
     "data": {
      "text/html": [
       "<div>\n",
       "<style scoped>\n",
       "    .dataframe tbody tr th:only-of-type {\n",
       "        vertical-align: middle;\n",
       "    }\n",
       "\n",
       "    .dataframe tbody tr th {\n",
       "        vertical-align: top;\n",
       "    }\n",
       "\n",
       "    .dataframe thead th {\n",
       "        text-align: right;\n",
       "    }\n",
       "</style>\n",
       "<table border=\"1\" class=\"dataframe\">\n",
       "  <thead>\n",
       "    <tr style=\"text-align: right;\">\n",
       "      <th></th>\n",
       "      <th>Name_x</th>\n",
       "      <th>Platform</th>\n",
       "      <th>meta_score</th>\n",
       "      <th>meta_UserReview</th>\n",
       "      <th>Rank</th>\n",
       "      <th>Name_y</th>\n",
       "      <th>Year</th>\n",
       "      <th>Genre</th>\n",
       "      <th>Publisher</th>\n",
       "      <th>Developer</th>\n",
       "      <th>vg_critic_score</th>\n",
       "      <th>vg_user_score</th>\n",
       "      <th>NA_Sales</th>\n",
       "      <th>PAL_Sales</th>\n",
       "      <th>JP_Sales</th>\n",
       "      <th>Other_Sales</th>\n",
       "      <th>Global_Sales</th>\n",
       "    </tr>\n",
       "  </thead>\n",
       "  <tbody>\n",
       "  </tbody>\n",
       "</table>\n",
       "</div>"
      ],
      "text/plain": [
       "Empty DataFrame\n",
       "Columns: [Name_x, Platform, meta_score, meta_UserReview, Rank, Name_y, Year, Genre, Publisher, Developer, vg_critic_score, vg_user_score, NA_Sales, PAL_Sales, JP_Sales, Other_Sales, Global_Sales]\n",
       "Index: []"
      ]
     },
     "execution_count": 105,
     "metadata": {},
     "output_type": "execute_result"
    }
   ],
   "source": [
    "merged_dataSet = pd.merge(temp,vg_sales, on=\"Platform\")\n",
    "merged_dataSet.head()"
   ]
  },
  {
   "cell_type": "code",
   "execution_count": null,
   "metadata": {},
   "outputs": [],
   "source": []
  }
 ],
 "metadata": {
  "interpreter": {
   "hash": "4f3b078249380ea762697f4f8f6aea77b3d6e43cbb1b18cbb73d8cde5aa597e7"
  },
  "kernelspec": {
   "display_name": "Python 3.9.7 64-bit (system)",
   "language": "python",
   "name": "python3"
  },
  "language_info": {
   "codemirror_mode": {
    "name": "ipython",
    "version": 3
   },
   "file_extension": ".py",
   "mimetype": "text/x-python",
   "name": "python",
   "nbconvert_exporter": "python",
   "pygments_lexer": "ipython3",
   "version": "3.9.7"
  },
  "orig_nbformat": 4
 },
 "nbformat": 4,
 "nbformat_minor": 2
}
