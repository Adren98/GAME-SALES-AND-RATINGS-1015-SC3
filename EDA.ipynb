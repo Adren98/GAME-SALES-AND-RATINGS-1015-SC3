{
 "cells": [
  {
   "cell_type": "markdown",
   "metadata": {},
   "source": [
    "# This notebook is dedicated to EDA"
   ]
  },
  {
   "cell_type": "markdown",
   "metadata": {},
   "source": [
    "## 1. things to note:\n",
    "1. we want to use Platform, Genre, critic_score, User_score, NA_Sales, PAL_Sales, JP_Sales and Other_Sales to predict Global_Sales\n",
    "2. there are many Null data points. what are we going to do about those?"
   ]
  },
  {
   "cell_type": "code",
   "execution_count": null,
   "metadata": {},
   "outputs": [],
   "source": []
  },
  {
   "cell_type": "markdown",
   "metadata": {},
   "source": [
    "## 2. things to compare:\n",
    "1. genre vs global sales\n",
    "2. platform vs global sales (we will remove the platforms that are small, so that we can focus on the bigger picture)\n",
    "3. correlation between regional sales vs platform (is there a region that likes a particular platform?)\n",
    "4. correlation between regional sales vs genre (is there a region that likes a particular genre?)\n",
    "5. correlation between regional sales vs global sales"
   ]
  },
  {
   "cell_type": "code",
   "execution_count": null,
   "metadata": {},
   "outputs": [],
   "source": []
  },
  {
   "cell_type": "markdown",
   "metadata": {},
   "source": [
    "## 3. main issues\n",
    "1. we realised that we don't have a lot of indicators to work with, so we merged another dataset and cleaned it (can add in the cleaning code here a bit ah). this gives us more indicators to work with."
   ]
  },
  {
   "cell_type": "code",
   "execution_count": null,
   "metadata": {},
   "outputs": [],
   "source": []
  },
  {
   "cell_type": "markdown",
   "metadata": {},
   "source": [
    "## 4. more things to compare:\n",
    "1. correlation between meta score and all sales (regional + global) -> is meta score a good indicator of sales in general?\n",
    "2. correlation between user review and all sales (regional + global) -> is user review a good indicator of sales in general?"
   ]
  },
  {
   "cell_type": "code",
   "execution_count": null,
   "metadata": {},
   "outputs": [],
   "source": []
  },
  {
   "cell_type": "markdown",
   "metadata": {},
   "source": [
    "## 5. end of EDA\n",
    "- we decide on what indicators we are using, based on the results that we get from the EDA"
   ]
  },
  {
   "cell_type": "code",
   "execution_count": null,
   "metadata": {},
   "outputs": [],
   "source": []
  }
 ],
 "metadata": {
  "interpreter": {
   "hash": "161d82ff555bb03278a9e83f44d9b6ae0b7255aeb2813213271f9b5ba3fa5199"
  },
  "kernelspec": {
   "display_name": "Python 3.8.8 ('base')",
   "language": "python",
   "name": "python3"
  },
  "language_info": {
   "name": "python",
   "version": "3.8.8"
  },
  "orig_nbformat": 4
 },
 "nbformat": 4,
 "nbformat_minor": 2
}
