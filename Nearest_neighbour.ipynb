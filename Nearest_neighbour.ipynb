{
 "cells": [
  {
   "cell_type": "code",
   "execution_count": null,
   "metadata": {},
   "outputs": [],
   "source": [
    "import numpy as np\n",
    "import pandas as pd\n",
    "data = pd.read_csv('ml_dataSet.csv')\n",
    "data.head()"
   ]
  },
  {
   "cell_type": "code",
   "execution_count": null,
   "metadata": {},
   "outputs": [],
   "source": [
    "from sklearn.model_selection import train_test_split\n",
    "from sklearn.neighbors import KNeighborsRegressor\n",
    "\n",
    "\n"
   ]
  },
  {
   "cell_type": "code",
   "execution_count": null,
   "metadata": {},
   "outputs": [],
   "source": [
    "# Split train and test\n",
    "print(\"The data is {}.\".format(data.shape))\n",
    "\n",
    "data_shuffle = data.sample(frac=1)\n",
    "train = data_shuffle[:int(0.7 * len(data_shuffle))]\n",
    "test = data_shuffle[int(0.7 * len(data_shuffle)):]\n",
    "\n",
    "print(\"The training data is {}.\".format(train.shape))\n",
    "print(\"The test data is {}.\".format(test.shape))"
   ]
  }
 ],
 "metadata": {
  "interpreter": {
   "hash": "f9a478e3b1857bb18d4fdde58bb688e07030aaf551e1654a2ef6bdb0fa4bd34b"
  },
  "kernelspec": {
   "display_name": "Python 3.9.9 ('tfm1')",
   "language": "python",
   "name": "python3"
  },
  "language_info": {
   "name": "python",
   "version": "3.9.9"
  },
  "orig_nbformat": 4
 },
 "nbformat": 4,
 "nbformat_minor": 2
}
