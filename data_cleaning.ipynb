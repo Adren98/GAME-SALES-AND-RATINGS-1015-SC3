{
 "cells": [
  {
   "cell_type": "code",
   "execution_count": null,
   "metadata": {},
   "outputs": [],
   "source": [
    "import numpy as np\n",
    "import pandas as pd\n",
    "import seaborn as sb\n",
    "import matplotlib.pyplot as plt\n",
    "sb.set()"
   ]
  },
  {
   "cell_type": "code",
   "execution_count": null,
   "metadata": {},
   "outputs": [],
   "source": [
    "data = pd.read_csv(\"merged_dataSet.csv\")\n",
    "data.info()"
   ]
  },
  {
   "cell_type": "markdown",
   "metadata": {},
   "source": [
    "Converting meta_user Review to float\n"
   ]
  },
  {
   "cell_type": "code",
   "execution_count": null,
   "metadata": {},
   "outputs": [],
   "source": [
    "data.loc[(data['meta_UserReview'] == 'tbd')] = None\n",
    "data['meta_UserReview'] = data['meta_UserReview'].astype(float)\n",
    "\n",
    "## ask group if need to put as median value for NA or take out"
   ]
  },
  {
   "cell_type": "markdown",
   "metadata": {},
   "source": [
    "Removing those records that has NULL for year and then changing the type of year to int as it is more logical"
   ]
  },
  {
   "cell_type": "code",
   "execution_count": null,
   "metadata": {},
   "outputs": [],
   "source": [
    "data.dropna(subset=['Year'], inplace=True)\n",
    "data['Year'] = data['Year'].astype(int)\n",
    "data.info()\n"
   ]
  },
  {
   "cell_type": "markdown",
   "metadata": {},
   "source": [
    "Replace all the NA values in NA_Sales , PAL_Sales , JP_sales , Other_sales and Global_sales with 0"
   ]
  },
  {
   "cell_type": "code",
   "execution_count": null,
   "metadata": {},
   "outputs": [],
   "source": [
    "data[\"NA_Sales\"].fillna(0,inplace=True)\n",
    "data[\"PAL_Sales\"].fillna(0,inplace=True)\n",
    "data[\"JP_Sales\"].fillna(0,inplace=True)\n",
    "data[\"Other_Sales\"].fillna(0,inplace=True)\n",
    "data[\"Global_Sales\"].fillna(0,inplace=True)\n",
    "data.info()"
   ]
  },
  {
   "cell_type": "code",
   "execution_count": null,
   "metadata": {},
   "outputs": [],
   "source": [
    "#one hot encoding of Genre\n"
   ]
  },
  {
   "cell_type": "markdown",
   "metadata": {},
   "source": [
    "Adding all the sales to a new Column called total sales\n"
   ]
  },
  {
   "cell_type": "code",
   "execution_count": null,
   "metadata": {},
   "outputs": [],
   "source": [
    "data[\"Total_Sales\"]= data[\"NA_Sales\"] + data[\"PAL_Sales\"] + data[\"JP_Sales\"] + data[\"Other_Sales\"] + data[\"Global_Sales\"]"
   ]
  },
  {
   "cell_type": "markdown",
   "metadata": {},
   "source": [
    "Reordering of columns so that it is easier to look at and performing one-hot enccoding for the genre variable"
   ]
  },
  {
   "cell_type": "code",
   "execution_count": 81,
   "metadata": {},
   "outputs": [
    {
     "data": {
      "text/html": [
       "<div>\n",
       "<style scoped>\n",
       "    .dataframe tbody tr th:only-of-type {\n",
       "        vertical-align: middle;\n",
       "    }\n",
       "\n",
       "    .dataframe tbody tr th {\n",
       "        vertical-align: top;\n",
       "    }\n",
       "\n",
       "    .dataframe thead th {\n",
       "        text-align: right;\n",
       "    }\n",
       "</style>\n",
       "<table border=\"1\" class=\"dataframe\">\n",
       "  <thead>\n",
       "    <tr style=\"text-align: right;\">\n",
       "      <th></th>\n",
       "      <th>Name</th>\n",
       "      <th>Platform</th>\n",
       "      <th>Year</th>\n",
       "      <th>Publisher</th>\n",
       "      <th>Developer</th>\n",
       "      <th>vg_Rank</th>\n",
       "      <th>vg_critic_score</th>\n",
       "      <th>vg_user_score</th>\n",
       "      <th>meta_score</th>\n",
       "      <th>meta_UserReview</th>\n",
       "      <th>...</th>\n",
       "      <th>Platform</th>\n",
       "      <th>Puzzle</th>\n",
       "      <th>Racing</th>\n",
       "      <th>Role-Playing</th>\n",
       "      <th>Sandbox</th>\n",
       "      <th>Shooter</th>\n",
       "      <th>Simulation</th>\n",
       "      <th>Sports</th>\n",
       "      <th>Strategy</th>\n",
       "      <th>Visual Novel</th>\n",
       "    </tr>\n",
       "  </thead>\n",
       "  <tbody>\n",
       "    <tr>\n",
       "      <th>0</th>\n",
       "      <td>The Legend of Zelda: Ocarina of Time</td>\n",
       "      <td>N64</td>\n",
       "      <td>1998</td>\n",
       "      <td>Nintendo</td>\n",
       "      <td>Nintendo EAD</td>\n",
       "      <td>470</td>\n",
       "      <td>9.9</td>\n",
       "      <td>10.0</td>\n",
       "      <td>99</td>\n",
       "      <td>9.1</td>\n",
       "      <td>...</td>\n",
       "      <td>0</td>\n",
       "      <td>0</td>\n",
       "      <td>0</td>\n",
       "      <td>0</td>\n",
       "      <td>0</td>\n",
       "      <td>0</td>\n",
       "      <td>0</td>\n",
       "      <td>0</td>\n",
       "      <td>0</td>\n",
       "      <td>0</td>\n",
       "    </tr>\n",
       "    <tr>\n",
       "      <th>1</th>\n",
       "      <td>Tony Hawk's Pro Skater 2</td>\n",
       "      <td>PS</td>\n",
       "      <td>2000</td>\n",
       "      <td>Activision</td>\n",
       "      <td>Neversoft Entertainment</td>\n",
       "      <td>755</td>\n",
       "      <td>9.3</td>\n",
       "      <td>NaN</td>\n",
       "      <td>98</td>\n",
       "      <td>7.4</td>\n",
       "      <td>...</td>\n",
       "      <td>0</td>\n",
       "      <td>0</td>\n",
       "      <td>0</td>\n",
       "      <td>0</td>\n",
       "      <td>0</td>\n",
       "      <td>0</td>\n",
       "      <td>0</td>\n",
       "      <td>1</td>\n",
       "      <td>0</td>\n",
       "      <td>0</td>\n",
       "    </tr>\n",
       "    <tr>\n",
       "      <th>2</th>\n",
       "      <td>Grand Theft Auto IV</td>\n",
       "      <td>PS3</td>\n",
       "      <td>2008</td>\n",
       "      <td>Rockstar Games</td>\n",
       "      <td>Rockstar North</td>\n",
       "      <td>337</td>\n",
       "      <td>10.0</td>\n",
       "      <td>9.0</td>\n",
       "      <td>98</td>\n",
       "      <td>7.7</td>\n",
       "      <td>...</td>\n",
       "      <td>0</td>\n",
       "      <td>0</td>\n",
       "      <td>0</td>\n",
       "      <td>0</td>\n",
       "      <td>0</td>\n",
       "      <td>0</td>\n",
       "      <td>0</td>\n",
       "      <td>0</td>\n",
       "      <td>0</td>\n",
       "      <td>0</td>\n",
       "    </tr>\n",
       "    <tr>\n",
       "      <th>3</th>\n",
       "      <td>SoulCalibur</td>\n",
       "      <td>DC</td>\n",
       "      <td>1999</td>\n",
       "      <td>Namco</td>\n",
       "      <td>Namco</td>\n",
       "      <td>3425</td>\n",
       "      <td>9.6</td>\n",
       "      <td>NaN</td>\n",
       "      <td>98</td>\n",
       "      <td>8.4</td>\n",
       "      <td>...</td>\n",
       "      <td>0</td>\n",
       "      <td>0</td>\n",
       "      <td>0</td>\n",
       "      <td>0</td>\n",
       "      <td>0</td>\n",
       "      <td>0</td>\n",
       "      <td>0</td>\n",
       "      <td>0</td>\n",
       "      <td>0</td>\n",
       "      <td>0</td>\n",
       "    </tr>\n",
       "    <tr>\n",
       "      <th>4</th>\n",
       "      <td>Grand Theft Auto IV</td>\n",
       "      <td>X360</td>\n",
       "      <td>2008</td>\n",
       "      <td>Rockstar Games</td>\n",
       "      <td>Rockstar North</td>\n",
       "      <td>317</td>\n",
       "      <td>10.0</td>\n",
       "      <td>NaN</td>\n",
       "      <td>98</td>\n",
       "      <td>7.9</td>\n",
       "      <td>...</td>\n",
       "      <td>0</td>\n",
       "      <td>0</td>\n",
       "      <td>0</td>\n",
       "      <td>0</td>\n",
       "      <td>0</td>\n",
       "      <td>0</td>\n",
       "      <td>0</td>\n",
       "      <td>0</td>\n",
       "      <td>0</td>\n",
       "      <td>0</td>\n",
       "    </tr>\n",
       "  </tbody>\n",
       "</table>\n",
       "<p>5 rows × 35 columns</p>\n",
       "</div>"
      ],
      "text/plain": [
       "                                   Name  Platform  Year         Publisher  \\\n",
       "0  The Legend of Zelda: Ocarina of Time       N64  1998        Nintendo     \n",
       "1              Tony Hawk's Pro Skater 2        PS  2000      Activision     \n",
       "2                   Grand Theft Auto IV       PS3  2008  Rockstar Games     \n",
       "3                           SoulCalibur        DC  1999           Namco     \n",
       "4                   Grand Theft Auto IV      X360  2008  Rockstar Games     \n",
       "\n",
       "                   Developer  vg_Rank  vg_critic_score  vg_user_score  \\\n",
       "0             Nintendo EAD        470              9.9           10.0   \n",
       "1  Neversoft Entertainment        755              9.3            NaN   \n",
       "2           Rockstar North        337             10.0            9.0   \n",
       "3                    Namco       3425              9.6            NaN   \n",
       "4           Rockstar North        317             10.0            NaN   \n",
       "\n",
       "   meta_score meta_UserReview  ...  Platform  Puzzle  Racing  Role-Playing  \\\n",
       "0          99             9.1  ...         0       0       0             0   \n",
       "1          98             7.4  ...         0       0       0             0   \n",
       "2          98             7.7  ...         0       0       0             0   \n",
       "3          98             8.4  ...         0       0       0             0   \n",
       "4          98             7.9  ...         0       0       0             0   \n",
       "\n",
       "   Sandbox  Shooter  Simulation  Sports  Strategy  Visual Novel  \n",
       "0        0        0           0       0         0             0  \n",
       "1        0        0           0       1         0             0  \n",
       "2        0        0           0       0         0             0  \n",
       "3        0        0           0       0         0             0  \n",
       "4        0        0           0       0         0             0  \n",
       "\n",
       "[5 rows x 35 columns]"
      ]
     },
     "execution_count": 81,
     "metadata": {},
     "output_type": "execute_result"
    }
   ],
   "source": [
    "cleaned_data = data[[\"Name\",\"Platform\",\"Year\",\"Genre\",\"Publisher\",\"Developer\",\"vg_Rank\",\"vg_critic_score\",\"vg_user_score\",\"meta_score\",\"meta_UserReview\",\"NA_Sales\",\"PAL_Sales\",\"JP_Sales\",\"Other_Sales\",\"Global_Sales\",\"Total_Sales\" ]]\n",
    "cleaned_data = pd.concat([cleaned_data,pd.get_dummies(cleaned_data['Genre'])],axis=1)\n",
    "cleaned_data.drop(['Genre'],axis=1, inplace=True)\n",
    "cleaned_data.head()\n",
    "cleaned_data.to_csv(\"cleaned_data.csv\")\n"
   ]
  },
  {
   "cell_type": "code",
   "execution_count": null,
   "metadata": {},
   "outputs": [],
   "source": []
  },
  {
   "cell_type": "code",
   "execution_count": null,
   "metadata": {},
   "outputs": [],
   "source": []
  }
 ],
 "metadata": {
  "interpreter": {
   "hash": "0245d5643b85659509bc2746a7e4c16effb678ef172d558bfea8e1fd9933cddb"
  },
  "kernelspec": {
   "display_name": "Python 3.9.7 ('base')",
   "language": "python",
   "name": "python3"
  },
  "language_info": {
   "codemirror_mode": {
    "name": "ipython",
    "version": 3
   },
   "file_extension": ".py",
   "mimetype": "text/x-python",
   "name": "python",
   "nbconvert_exporter": "python",
   "pygments_lexer": "ipython3",
   "version": "3.9.7"
  },
  "orig_nbformat": 4
 },
 "nbformat": 4,
 "nbformat_minor": 2
}
