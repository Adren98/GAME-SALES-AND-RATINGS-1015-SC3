{
 "cells": [
  {
   "cell_type": "code",
   "execution_count": null,
   "metadata": {},
   "outputs": [],
   "source": [
    "import numpy as np\n",
    "import pandas as pd\n",
    "import seaborn as sb\n",
    "import matplotlib.pyplot as plt\n",
    "sb.set()"
   ]
  },
  {
   "cell_type": "code",
   "execution_count": null,
   "metadata": {},
   "outputs": [],
   "source": [
    "data = pd.read_csv(\"merged_dataSet.csv\")\n",
    "data.info()"
   ]
  },
  {
   "cell_type": "markdown",
   "metadata": {},
   "source": [
    "Converting meta_user Review to float\n"
   ]
  },
  {
   "cell_type": "code",
   "execution_count": null,
   "metadata": {},
   "outputs": [],
   "source": [
    "data.loc[(data['meta_UserReview'] == 'tbd')] = None\n",
    "data['meta_UserReview'] = data['meta_UserReview'].astype(float)\n",
    "\n",
    "## ask group if need to put as median value for NA or take out"
   ]
  },
  {
   "cell_type": "markdown",
   "metadata": {},
   "source": [
    "Removing those records that has NULL for year and then changing the type of year to int as it is more logical"
   ]
  },
  {
   "cell_type": "code",
   "execution_count": null,
   "metadata": {},
   "outputs": [],
   "source": [
    "data.dropna(subset=['Year'], inplace=True)\n",
    "data['Year'] = data['Year'].astype(int)\n",
    "data.info()\n"
   ]
  },
  {
   "cell_type": "markdown",
   "metadata": {},
   "source": [
    "Replace all the NA values in NA_Sales , PAL_Sales , JP_sales , Other_sales and Global_sales with 0"
   ]
  },
  {
   "cell_type": "code",
   "execution_count": null,
   "metadata": {},
   "outputs": [],
   "source": [
    "data[\"NA_Sales\"].fillna(0,inplace=True)\n",
    "data[\"PAL_Sales\"].fillna(0,inplace=True)\n",
    "data[\"JP_Sales\"].fillna(0,inplace=True)\n",
    "data[\"Other_Sales\"].fillna(0,inplace=True)\n",
    "data[\"Global_Sales\"].fillna(0,inplace=True)\n",
    "data.info()"
   ]
  },
  {
   "cell_type": "code",
   "execution_count": null,
   "metadata": {},
   "outputs": [],
   "source": [
    "#one hot encoding of Genre\n"
   ]
  },
  {
   "cell_type": "markdown",
   "metadata": {},
   "source": [
    "Adding all the sales to a new Column called total sales\n"
   ]
  },
  {
   "cell_type": "code",
   "execution_count": null,
   "metadata": {},
   "outputs": [],
   "source": [
    "data[\"Total_Sales\"]= data[\"NA_Sales\"] + data[\"PAL_Sales\"] + data[\"JP_Sales\"] + data[\"Other_Sales\"] + data[\"Global_Sales\"]"
   ]
  },
  {
   "cell_type": "markdown",
   "metadata": {},
   "source": [
    "Reordering of columns so that it is easier to look at and performing one-hot enccoding for the genre variable"
   ]
  },
  {
   "cell_type": "code",
   "execution_count": 82,
   "metadata": {},
   "outputs": [],
   "source": [
    "cleaned_data = data[[\"Name\",\"Platform\",\"Year\",\"Genre\",\"Publisher\",\"Developer\",\"vg_Rank\",\"vg_critic_score\",\"vg_user_score\",\"meta_score\",\"meta_UserReview\",\"NA_Sales\",\"PAL_Sales\",\"JP_Sales\",\"Other_Sales\",\"Global_Sales\",\"Total_Sales\" ]]\n",
    "cleaned_data = pd.concat([cleaned_data,pd.get_dummies(cleaned_data['Genre'])],axis=1)\n",
    "cleaned_data.drop(['Genre'],axis=1, inplace=True)\n",
    "cleaned_data.head()\n",
    "cleaned_data.to_csv(\"cleaned_data.csv\")\n"
   ]
  },
  {
   "cell_type": "code",
   "execution_count": null,
   "metadata": {},
   "outputs": [],
   "source": []
  },
  {
   "cell_type": "code",
   "execution_count": null,
   "metadata": {},
   "outputs": [],
   "source": []
  }
 ],
 "metadata": {
  "interpreter": {
   "hash": "0245d5643b85659509bc2746a7e4c16effb678ef172d558bfea8e1fd9933cddb"
  },
  "kernelspec": {
   "display_name": "Python 3.9.7 ('base')",
   "language": "python",
   "name": "python3"
  },
  "language_info": {
   "codemirror_mode": {
    "name": "ipython",
    "version": 3
   },
   "file_extension": ".py",
   "mimetype": "text/x-python",
   "name": "python",
   "nbconvert_exporter": "python",
   "pygments_lexer": "ipython3",
   "version": "3.8.8"
  },
  "orig_nbformat": 4
 },
 "nbformat": 4,
 "nbformat_minor": 2
}
