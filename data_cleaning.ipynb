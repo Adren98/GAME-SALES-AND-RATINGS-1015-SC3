{
 "cells": [
  {
   "cell_type": "markdown",
   "metadata": {},
   "source": [
    "# Importing Essential Libraries"
   ]
  },
  {
   "cell_type": "code",
   "execution_count": null,
   "metadata": {},
   "outputs": [],
   "source": [
    "import numpy as np\n",
    "import pandas as pd\n",
    "import seaborn as sb\n",
    "import matplotlib.pyplot as plt\n",
    "sb.set()"
   ]
  },
  {
   "cell_type": "markdown",
   "metadata": {},
   "source": [
    "# Importing Data"
   ]
  },
  {
   "cell_type": "code",
   "execution_count": null,
   "metadata": {},
   "outputs": [],
   "source": [
    "vg_sales = pd.read_excel(\"Final Data.xlsx\")\n",
    "metaCritic = pd.read_csv(\"meta_critic.csv\")\n",
    "metaCritic.head()\n"
   ]
  },
  {
   "cell_type": "markdown",
   "metadata": {},
   "source": [
    "Change the column of user_review in metaCritic CSV to meta_UserReview. The following columns are also changed so that merging could be done later. These columns are name and platform."
   ]
  },
  {
   "cell_type": "code",
   "execution_count": null,
   "metadata": {},
   "outputs": [],
   "source": [
    "metaCritic.rename(columns={'user_review':'meta_UserReview','name':'Name','platform':'Platform'},inplace=True)\n",
    "\n"
   ]
  },
  {
   "cell_type": "markdown",
   "metadata": {},
   "source": [
    "The user_score column and critic score in vgSales.csv would be changed to vg_user_score and vg_critic_score to so that the columns are clearly identified later in the model."
   ]
  },
  {
   "cell_type": "code",
   "execution_count": null,
   "metadata": {},
   "outputs": [],
   "source": [
    "vg_sales.rename(columns={'User_Score':'vg_user_score','Critic_Score':'vg_critic_score'},inplace=True)\n",
    "vg_sales['Platform'].unique()\n",
    "\n",
    "\n"
   ]
  },
  {
   "cell_type": "code",
   "execution_count": null,
   "metadata": {},
   "outputs": [],
   "source": [
    "#dataset to be merged\n",
    "temp =metaCritic[['Name','Platform','meta_score','meta_UserReview']]\n",
    "array = temp['Platform'].unique()\n",
    "print(array)\n",
    "\n",
    "\n"
   ]
  },
  {
   "cell_type": "code",
   "execution_count": null,
   "metadata": {},
   "outputs": [],
   "source": [
    "# dictonary that contains the keywords that needs to be swapped. T\n",
    "conversion ={\n",
    "    ' Nintendo 64':'N64' ,\n",
    "    ' PlayStation': 'PS' ,\n",
    "    ' PlayStation 3': 'PS3', \n",
    "    ' Dreamcast': 'DC',\n",
    "    ' Xbox 360':'X360',\n",
    "    ' Wii':'Wii',\n",
    "    ' Xbox One':'XOne',\n",
    "    ' PC' : 'PC',\n",
    "    ' Switch': 'NS',\n",
    "    ' PlayStation 2': 'PS2',\n",
    "    ' PlayStation 4': 'PS4',\n",
    "    ' GameCube': 'GCN',\n",
    "    ' Xbox': 'XB',\n",
    "    ' Wii U': 'WiiU',\n",
    "    ' Game Boy Advance': 'GBA',\n",
    "    ' 3DS': '3DS',\n",
    "    ' Xbox Series X': 'XSX',\n",
    "    ' DS': 'DS',\n",
    "    ' PlayStation Vita': 'PSV',\n",
    "    ' PlayStation 5': 'PS5',\n",
    "    ' PSP': 'PSP',\n",
    "    ' Stadia': 'PC',    \n",
    " }\n",
    " \n",
    "temp.replace({'Platform': conversion})\n"
   ]
  },
  {
   "cell_type": "code",
   "execution_count": 101,
   "metadata": {},
   "outputs": [
    {
     "name": "stdout",
     "output_type": "stream",
     "text": [
      "<class 'pandas.core.frame.DataFrame'>\n",
      "RangeIndex: 18800 entries, 0 to 18799\n",
      "Data columns (total 4 columns):\n",
      " #   Column           Non-Null Count  Dtype \n",
      "---  ------           --------------  ----- \n",
      " 0   Name             18800 non-null  object\n",
      " 1   Platform         18800 non-null  object\n",
      " 2   meta_score       18800 non-null  int64 \n",
      " 3   meta_UserReview  18800 non-null  object\n",
      "dtypes: int64(1), object(3)\n",
      "memory usage: 587.6+ KB\n"
     ]
    }
   ],
   "source": [
    "temp.info()\n"
   ]
  },
  {
   "cell_type": "code",
   "execution_count": 102,
   "metadata": {},
   "outputs": [
    {
     "name": "stdout",
     "output_type": "stream",
     "text": [
      "<class 'pandas.core.frame.DataFrame'>\n",
      "RangeIndex: 30000 entries, 0 to 29999\n",
      "Data columns (total 14 columns):\n",
      " #   Column           Non-Null Count  Dtype  \n",
      "---  ------           --------------  -----  \n",
      " 0   Rank             30000 non-null  int64  \n",
      " 1   Name             30000 non-null  object \n",
      " 2   Platform         30000 non-null  object \n",
      " 3   Year             29086 non-null  float64\n",
      " 4   Genre            30000 non-null  object \n",
      " 5   Publisher        30000 non-null  object \n",
      " 6   Developer        30000 non-null  object \n",
      " 7   vg_critic_score  5306 non-null   float64\n",
      " 8   vg_user_score    291 non-null    float64\n",
      " 9   NA_Sales         13656 non-null  float64\n",
      " 10  PAL_Sales        14020 non-null  float64\n",
      " 11  JP_Sales         7672 non-null   float64\n",
      " 12  Other_Sales      16365 non-null  float64\n",
      " 13  Global_Sales     20302 non-null  float64\n",
      "dtypes: float64(8), int64(1), object(5)\n",
      "memory usage: 3.2+ MB\n"
     ]
    }
   ],
   "source": [
    "vg_sales.info()"
   ]
  },
  {
   "cell_type": "code",
   "execution_count": null,
   "metadata": {},
   "outputs": [],
   "source": []
  }
 ],
 "metadata": {
  "interpreter": {
   "hash": "4f3b078249380ea762697f4f8f6aea77b3d6e43cbb1b18cbb73d8cde5aa597e7"
  },
  "kernelspec": {
   "display_name": "Python 3.9.7 64-bit (system)",
   "language": "python",
   "name": "python3"
  },
  "language_info": {
   "codemirror_mode": {
    "name": "ipython",
    "version": 3
   },
   "file_extension": ".py",
   "mimetype": "text/x-python",
   "name": "python",
   "nbconvert_exporter": "python",
   "pygments_lexer": "ipython3",
   "version": "3.9.7"
  },
  "orig_nbformat": 4
 },
 "nbformat": 4,
 "nbformat_minor": 2
}
